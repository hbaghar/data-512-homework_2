{
 "cells": [
  {
   "cell_type": "markdown",
   "metadata": {},
   "source": [
    "# DATA 512: Human-Centered Data Science\n",
    "## Homework 2: Considering Bias in Data\n",
    "\n",
    "The goal of this assignment is to explore the concept of bias in data using Wikipedia articles. This assignment will consider articles on political figures from different countries. For this assignment, you will combine a dataset of Wikipedia articles with a dataset of country populations, and use a machine learning service called ORES to estimate the quality of each article.\n",
    "\n",
    "You are expected to perform an analysis of how the coverage of politicians on Wikipedia and the quality of articles about politicians varies among countries. Your analysis will consist of a series of tables that show:\n",
    "\n",
    "1. The countries with the greatest and least coverage of politicians on Wikipedia compared to their population.\n",
    "2. The countries with the highest and lowest proportion of high quality articles about politicians.\n",
    "3. A ranking of geographic regions by articles-per-person and proportion of high quality articles.\n"
   ]
  },
  {
   "cell_type": "markdown",
   "metadata": {},
   "source": [
    "# 0. Setup\n",
    "\n",
    "Importing required packages, and setting up functions required for analysis"
   ]
  },
  {
   "cell_type": "code",
   "execution_count": 1,
   "metadata": {},
   "outputs": [
    {
     "name": "stderr",
     "output_type": "stream",
     "text": [
      "/var/folders/rd/v2v17qs50rz2m3cx4yv9ftl40000gn/T/ipykernel_96536/1554299361.py:3: TqdmWarning: IProgress not found. Please update jupyter and ipywidgets. See https://ipywidgets.readthedocs.io/en/stable/user_install.html\n",
      "  from tqdm.autonotebook import tqdm\n"
     ]
    }
   ],
   "source": [
    "import json, time, requests, urllib.parse\n",
    "import pandas as pd\n",
    "from tqdm.autonotebook import tqdm\n",
    "\n",
    "import logging\n",
    "logging.basicConfig(filename=\"errors.log\", level=logging.ERROR)"
   ]
  },
  {
   "cell_type": "markdown",
   "metadata": {},
   "source": [
    "## Definining Article Page Info MediaWiki API parameter and function "
   ]
  },
  {
   "cell_type": "code",
   "execution_count": 2,
   "metadata": {},
   "outputs": [],
   "source": [
    "#########\n",
    "#\n",
    "#    CONSTANTS\n",
    "#\n",
    "\n",
    "# The basic English Wikipedia API endpoint\n",
    "API_ENWIKIPEDIA_ENDPOINT = \"https://en.wikipedia.org/w/api.php\"\n",
    "\n",
    "# We'll assume that there needs to be some throttling for these requests - we should always be nice to a free data resource\n",
    "API_LATENCY_ASSUMED = 0.002       # Assuming roughly 2ms latency on the API and network\n",
    "API_THROTTLE_WAIT = (1.0/100.0)-API_LATENCY_ASSUMED\n",
    "\n",
    "# When making automated requests we should include something that is unique to the person making the request\n",
    "# This should include an email - your UW email would be good to put in there\n",
    "REQUEST_HEADERS = {\n",
    "    'User-Agent': '<hbaghar@uw.edu>, University of Washington, MSDS DATA 512 - AUTUMN 2022',\n",
    "}\n",
    "\n",
    "# This is just a list of English Wikipedia article titles that we can use for example requests\n",
    "ARTICLE_TITLES = [ 'Bison', 'Northern flicker', 'Red squirrel', 'Chinook salmon', 'Horseshoe bat' ]\n",
    "\n",
    "# This is a string of additional page properties that can be returned see the Info documentation for\n",
    "# what can be included. If you don't want any this can simply be the empty string\n",
    "PAGEINFO_EXTENDED_PROPERTIES = \"talkid|url|watched|watchers\"\n",
    "#PAGEINFO_EXTENDED_PROPERTIES = \"\"\n",
    "\n",
    "# This template lists the basic parameters for making this\n",
    "PAGEINFO_PARAMS_TEMPLATE = {\n",
    "    \"action\": \"query\",\n",
    "    \"format\": \"json\",\n",
    "    \"titles\": \"\",           # to simplify this should be a single page title at a time\n",
    "    \"prop\": \"info\",\n",
    "    \"inprop\": PAGEINFO_EXTENDED_PROPERTIES\n",
    "}\n"
   ]
  },
  {
   "cell_type": "code",
   "execution_count": 3,
   "metadata": {},
   "outputs": [],
   "source": [
    "#########\n",
    "#\n",
    "#    PROCEDURES/FUNCTIONS\n",
    "#\n",
    "\n",
    "def request_pageinfo_per_article(article_title = None, \n",
    "                                 endpoint_url = API_ENWIKIPEDIA_ENDPOINT, \n",
    "                                 request_template = PAGEINFO_PARAMS_TEMPLATE,\n",
    "                                 headers = REQUEST_HEADERS):\n",
    "    # Make sure we have an article title\n",
    "    if not article_title: return None\n",
    "    \n",
    "    request_template['titles'] = article_title\n",
    "        \n",
    "    # make the request\n",
    "    try:\n",
    "        # we'll wait first, to make sure we don't exceed the limit in the situation where an exception\n",
    "        # occurs during the request processing - throttling is always a good practice with a free\n",
    "        # data source like Wikipedia - or any other community sources\n",
    "        if API_THROTTLE_WAIT > 0.0:\n",
    "            time.sleep(API_THROTTLE_WAIT)\n",
    "        response = requests.get(endpoint_url, headers=headers, params=request_template)\n",
    "        json_response = response.json()\n",
    "    except Exception as e:\n",
    "        logging.error(\"Error making request for article title: {}\".format(article_title))\n",
    "        json_response = None\n",
    "    return json_response"
   ]
  },
  {
   "cell_type": "markdown",
   "metadata": {},
   "source": [
    "## Defining ORES API parameters and function"
   ]
  },
  {
   "cell_type": "code",
   "execution_count": 4,
   "metadata": {},
   "outputs": [],
   "source": [
    "#########\n",
    "#\n",
    "#    CONSTANTS\n",
    "#\n",
    "\n",
    "# The current ORES API endpoint\n",
    "API_ORES_SCORE_ENDPOINT = \"https://ores.wikimedia.org/v3\"\n",
    "# A template for mapping to the URL\n",
    "API_ORES_SCORE_PARAMS = \"/scores/{context}/{revid}/{model}\"\n",
    "\n",
    "# Use some delays so that we do not hammer the API with our requests\n",
    "API_LATENCY_ASSUMED = 0.002       # Assuming roughly 2ms latency on the API and network\n",
    "API_THROTTLE_WAIT = (1.0/100.0)-API_LATENCY_ASSUMED\n",
    "\n",
    "# When making automated requests we should include something that is unique to the person making the request\n",
    "# This should include an email - your UW email would be good to put in there\n",
    "REQUEST_HEADERS = {\n",
    "    'User-Agent': '<hbaghar@uw.edu>, University of Washington, MSDS DATA 512 - AUTUMN 2022'\n",
    "}\n",
    "\n",
    "# A dictionary of English Wikipedia article titles (keys) and sample revision IDs that can be used for this ORES scoring example\n",
    "ARTICLE_REVISIONS = { 'Bison':1085687913 , 'Northern flicker':1086582504 , 'Red squirrel':1083787665 , 'Chinook salmon':1085406228 , 'Horseshoe bat':1060601936 }\n",
    "\n",
    "# This template lists the basic parameters for making an ORES request\n",
    "ORES_PARAMS_TEMPLATE = {\n",
    "    \"context\": \"enwiki\",        # which WMF project for the specified revid\n",
    "    \"revid\" : \"\",               # the revision to be scored - this will probably change each call\n",
    "    \"model\": \"articlequality\"   # the AI/ML scoring model to apply to the reviewion\n",
    "}\n",
    "#\n",
    "# The current ML models for English wikipedia are:\n",
    "#   \"articlequality\"\n",
    "#   \"articletopic\"\n",
    "#   \"damaging\"\n",
    "#   \"version\"\n",
    "#   \"draftquality\"\n",
    "#   \"drafttopic\"\n",
    "#   \"goodfaith\"\n",
    "#   \"wp10\"\n",
    "#\n",
    "# The specific documentation on these is scattered so if you want to use one you'll have to look around.\n",
    "#"
   ]
  },
  {
   "cell_type": "code",
   "execution_count": 5,
   "metadata": {},
   "outputs": [],
   "source": [
    "#########\n",
    "#\n",
    "#    PROCEDURES/FUNCTIONS\n",
    "#\n",
    "\n",
    "def request_ores_score_per_article(article_revid = None, \n",
    "                                   endpoint_url = API_ORES_SCORE_ENDPOINT, \n",
    "                                   endpoint_params = API_ORES_SCORE_PARAMS, \n",
    "                                   request_template = ORES_PARAMS_TEMPLATE,\n",
    "                                   headers = REQUEST_HEADERS,\n",
    "                                   features=False):\n",
    "    # Make sure we have an article revision id\n",
    "    if not article_revid: return None\n",
    "    \n",
    "    # set the revision id into the template\n",
    "    request_template['revid'] = article_revid\n",
    "    \n",
    "    # now, create a request URL by combining the endpoint_url with the parameters for the request\n",
    "    request_url = endpoint_url+endpoint_params.format(**request_template)\n",
    "    \n",
    "    # the features used by the ML model can sometimes be returned as well as scores\n",
    "    if features:\n",
    "        request_url = request_url+\"?features=true\"\n",
    "    \n",
    "    # make the request\n",
    "    try:\n",
    "        # we'll wait first, to make sure we don't exceed the limit in the situation where an exception\n",
    "        # occurs during the request processing - throttling is always a good practice with a free\n",
    "        # data source like ORES - or other community sources\n",
    "        if API_THROTTLE_WAIT > 0.0:\n",
    "            time.sleep(API_THROTTLE_WAIT)\n",
    "        response = requests.get(request_url, headers=headers)\n",
    "        json_response = response.json()\n",
    "    except Exception as e:\n",
    "        json_response = None\n",
    "    return json_response"
   ]
  },
  {
   "cell_type": "markdown",
   "metadata": {},
   "source": [
    "# 1. Getting Article and Population Data\n",
    "\n",
    "The first step is getting the data, which lives in several different places. You will need data that lists Wikipedia articles of politicians and data for country populations.\n",
    "The Wikipedia Category:Politicians by nationality was crawled to generate a list of Wikipedia article pages about politicians from a wide range of countries. This data is in the homework folder as [`politicians_by_country.SEPT.2022.csv`](https://docs.google.com/spreadsheets/u/0/d/1Y4vSTYENgNE5KltqKZqnRQQBQZN5c8uKbSM4QTt8QGg/edit).\n",
    "\n",
    "The population data is available in CSV format as [`population_by_country_2022.csv`](https://docs.google.com/spreadsheets/u/0/d/1POuZDfA1sRooBq9e1RNukxyzHZZ-nQ2r6H5NcXhsMPU/edit) from the homework folder. This dataset is drawn from the world population data sheet published by the Population Reference Bureau.\n",
    "\n",
    "**Some Considerations**\n",
    "\n",
    "You should be a little careful with the data. Crawling Wikipedia categories to identify relevant page subsets can result in misleading and/or duplicate category labels. Naturally, the data crawl attempted to resolve these, but not all may have been caught. You should document how you handle any data inconsistencies.\n",
    "\n",
    "The population_by_country_2022.csv contains some rows that provide cumulative regional population counts. These rows are distinguished by having ALL CAPS values in the 'geography' field (e.g. AFRICA, OCEANIA). These rows won't match the country values in `politicians_by_country.SEPT.2022.csv`, but you will want to retain some of them so that you can report coverage and quality by region as specified in the analysis section below.\n"
   ]
  },
  {
   "cell_type": "markdown",
   "metadata": {},
   "source": [
    "## 1.1 Loading list of articles that need to be scored"
   ]
  },
  {
   "cell_type": "code",
   "execution_count": 6,
   "metadata": {},
   "outputs": [
    {
     "data": {
      "text/html": [
       "<div>\n",
       "<style scoped>\n",
       "    .dataframe tbody tr th:only-of-type {\n",
       "        vertical-align: middle;\n",
       "    }\n",
       "\n",
       "    .dataframe tbody tr th {\n",
       "        vertical-align: top;\n",
       "    }\n",
       "\n",
       "    .dataframe thead th {\n",
       "        text-align: right;\n",
       "    }\n",
       "</style>\n",
       "<table border=\"1\" class=\"dataframe\">\n",
       "  <thead>\n",
       "    <tr style=\"text-align: right;\">\n",
       "      <th></th>\n",
       "      <th>name</th>\n",
       "      <th>url</th>\n",
       "      <th>country</th>\n",
       "    </tr>\n",
       "  </thead>\n",
       "  <tbody>\n",
       "    <tr>\n",
       "      <th>0</th>\n",
       "      <td>Shahjahan Noori</td>\n",
       "      <td>https://en.wikipedia.org/wiki/Shahjahan_Noori</td>\n",
       "      <td>Afghanistan</td>\n",
       "    </tr>\n",
       "    <tr>\n",
       "      <th>1</th>\n",
       "      <td>Abdul Ghafar Lakanwal</td>\n",
       "      <td>https://en.wikipedia.org/wiki/Abdul_Ghafar_Lak...</td>\n",
       "      <td>Afghanistan</td>\n",
       "    </tr>\n",
       "    <tr>\n",
       "      <th>2</th>\n",
       "      <td>Majah Ha Adrif</td>\n",
       "      <td>https://en.wikipedia.org/wiki/Majah_Ha_Adrif</td>\n",
       "      <td>Afghanistan</td>\n",
       "    </tr>\n",
       "    <tr>\n",
       "      <th>3</th>\n",
       "      <td>Haroon al-Afghani</td>\n",
       "      <td>https://en.wikipedia.org/wiki/Haroon_al-Afghani</td>\n",
       "      <td>Afghanistan</td>\n",
       "    </tr>\n",
       "    <tr>\n",
       "      <th>4</th>\n",
       "      <td>Tayyab Agha</td>\n",
       "      <td>https://en.wikipedia.org/wiki/Tayyab_Agha</td>\n",
       "      <td>Afghanistan</td>\n",
       "    </tr>\n",
       "  </tbody>\n",
       "</table>\n",
       "</div>"
      ],
      "text/plain": [
       "                    name                                                url  \\\n",
       "0        Shahjahan Noori      https://en.wikipedia.org/wiki/Shahjahan_Noori   \n",
       "1  Abdul Ghafar Lakanwal  https://en.wikipedia.org/wiki/Abdul_Ghafar_Lak...   \n",
       "2         Majah Ha Adrif       https://en.wikipedia.org/wiki/Majah_Ha_Adrif   \n",
       "3      Haroon al-Afghani    https://en.wikipedia.org/wiki/Haroon_al-Afghani   \n",
       "4            Tayyab Agha          https://en.wikipedia.org/wiki/Tayyab_Agha   \n",
       "\n",
       "       country  \n",
       "0  Afghanistan  \n",
       "1  Afghanistan  \n",
       "2  Afghanistan  \n",
       "3  Afghanistan  \n",
       "4  Afghanistan  "
      ]
     },
     "execution_count": 6,
     "metadata": {},
     "output_type": "execute_result"
    }
   ],
   "source": [
    "articles = pd.read_csv(\"https://docs.google.com/spreadsheets/d/1Y4vSTYENgNE5KltqKZqnRQQBQZN5c8uKbSM4QTt8QGg/export?gid=1672307727&format=csv\")\n",
    "articles.head()"
   ]
  },
  {
   "cell_type": "markdown",
   "metadata": {},
   "source": [
    "## 1.2 Loading population dataset and processing it\n",
    "\n",
    "We want to map regions and countires together instead of the hierarchy being broken down by row in the same column"
   ]
  },
  {
   "cell_type": "code",
   "execution_count": 7,
   "metadata": {},
   "outputs": [
    {
     "data": {
      "text/html": [
       "<div>\n",
       "<style scoped>\n",
       "    .dataframe tbody tr th:only-of-type {\n",
       "        vertical-align: middle;\n",
       "    }\n",
       "\n",
       "    .dataframe tbody tr th {\n",
       "        vertical-align: top;\n",
       "    }\n",
       "\n",
       "    .dataframe thead th {\n",
       "        text-align: right;\n",
       "    }\n",
       "</style>\n",
       "<table border=\"1\" class=\"dataframe\">\n",
       "  <thead>\n",
       "    <tr style=\"text-align: right;\">\n",
       "      <th></th>\n",
       "      <th>Geography</th>\n",
       "      <th>Population (millions)</th>\n",
       "    </tr>\n",
       "  </thead>\n",
       "  <tbody>\n",
       "    <tr>\n",
       "      <th>0</th>\n",
       "      <td>WORLD</td>\n",
       "      <td>7963.0</td>\n",
       "    </tr>\n",
       "    <tr>\n",
       "      <th>1</th>\n",
       "      <td>AFRICA</td>\n",
       "      <td>1419.0</td>\n",
       "    </tr>\n",
       "    <tr>\n",
       "      <th>2</th>\n",
       "      <td>NORTHERN AFRICA</td>\n",
       "      <td>251.0</td>\n",
       "    </tr>\n",
       "    <tr>\n",
       "      <th>3</th>\n",
       "      <td>Algeria</td>\n",
       "      <td>44.9</td>\n",
       "    </tr>\n",
       "    <tr>\n",
       "      <th>4</th>\n",
       "      <td>Egypt</td>\n",
       "      <td>103.5</td>\n",
       "    </tr>\n",
       "  </tbody>\n",
       "</table>\n",
       "</div>"
      ],
      "text/plain": [
       "         Geography  Population (millions)\n",
       "0            WORLD                 7963.0\n",
       "1           AFRICA                 1419.0\n",
       "2  NORTHERN AFRICA                  251.0\n",
       "3          Algeria                   44.9\n",
       "4            Egypt                  103.5"
      ]
     },
     "execution_count": 7,
     "metadata": {},
     "output_type": "execute_result"
    }
   ],
   "source": [
    "population = pd.read_csv(\"https://docs.google.com/spreadsheets/d/1POuZDfA1sRooBq9e1RNukxyzHZZ-nQ2r6H5NcXhsMPU/export?gid=1154770218&format=csv\")\n",
    "population.head()"
   ]
  },
  {
   "cell_type": "code",
   "execution_count": 8,
   "metadata": {},
   "outputs": [
    {
     "data": {
      "text/html": [
       "<div>\n",
       "<style scoped>\n",
       "    .dataframe tbody tr th:only-of-type {\n",
       "        vertical-align: middle;\n",
       "    }\n",
       "\n",
       "    .dataframe tbody tr th {\n",
       "        vertical-align: top;\n",
       "    }\n",
       "\n",
       "    .dataframe thead th {\n",
       "        text-align: right;\n",
       "    }\n",
       "</style>\n",
       "<table border=\"1\" class=\"dataframe\">\n",
       "  <thead>\n",
       "    <tr style=\"text-align: right;\">\n",
       "      <th></th>\n",
       "      <th>Region</th>\n",
       "      <th>Country</th>\n",
       "      <th>Population (millions)</th>\n",
       "    </tr>\n",
       "  </thead>\n",
       "  <tbody>\n",
       "    <tr>\n",
       "      <th>3</th>\n",
       "      <td>NORTHERN AFRICA</td>\n",
       "      <td>Algeria</td>\n",
       "      <td>44.9</td>\n",
       "    </tr>\n",
       "    <tr>\n",
       "      <th>4</th>\n",
       "      <td>NORTHERN AFRICA</td>\n",
       "      <td>Egypt</td>\n",
       "      <td>103.5</td>\n",
       "    </tr>\n",
       "    <tr>\n",
       "      <th>5</th>\n",
       "      <td>NORTHERN AFRICA</td>\n",
       "      <td>Libya</td>\n",
       "      <td>6.8</td>\n",
       "    </tr>\n",
       "    <tr>\n",
       "      <th>6</th>\n",
       "      <td>NORTHERN AFRICA</td>\n",
       "      <td>Morocco</td>\n",
       "      <td>36.7</td>\n",
       "    </tr>\n",
       "    <tr>\n",
       "      <th>7</th>\n",
       "      <td>NORTHERN AFRICA</td>\n",
       "      <td>Sudan</td>\n",
       "      <td>46.9</td>\n",
       "    </tr>\n",
       "  </tbody>\n",
       "</table>\n",
       "</div>"
      ],
      "text/plain": [
       "            Region  Country  Population (millions)\n",
       "3  NORTHERN AFRICA  Algeria                   44.9\n",
       "4  NORTHERN AFRICA    Egypt                  103.5\n",
       "5  NORTHERN AFRICA    Libya                    6.8\n",
       "6  NORTHERN AFRICA  Morocco                   36.7\n",
       "7  NORTHERN AFRICA    Sudan                   46.9"
      ]
     },
     "execution_count": 8,
     "metadata": {},
     "output_type": "execute_result"
    }
   ],
   "source": [
    "population[\"Region\"] = population[\"Geography\"]\n",
    "population.loc[~(population[\"Region\"].str.isupper()), \"Region\"] = pd.NA\n",
    "population[\"Region\"] = population[\"Region\"].fillna(method=\"ffill\")\n",
    "population.rename({\"Geography\": \"Country\"}, axis=1, inplace=True)\n",
    "population_totals = population.loc[(population[\"Region\"] == population[\"Country\"]), [\"Region\", \"Population (millions)\"]]\n",
    "population = population.loc[~((population[\"Region\"] == population[\"Country\"]))]\n",
    "population = population[[\"Region\",\"Country\",\"Population (millions)\"]]\n",
    "population.head()"
   ]
  },
  {
   "cell_type": "code",
   "execution_count": 9,
   "metadata": {},
   "outputs": [
    {
     "data": {
      "text/html": [
       "<div>\n",
       "<style scoped>\n",
       "    .dataframe tbody tr th:only-of-type {\n",
       "        vertical-align: middle;\n",
       "    }\n",
       "\n",
       "    .dataframe tbody tr th {\n",
       "        vertical-align: top;\n",
       "    }\n",
       "\n",
       "    .dataframe thead th {\n",
       "        text-align: right;\n",
       "    }\n",
       "</style>\n",
       "<table border=\"1\" class=\"dataframe\">\n",
       "  <thead>\n",
       "    <tr style=\"text-align: right;\">\n",
       "      <th></th>\n",
       "      <th>Region</th>\n",
       "      <th>Population (millions)</th>\n",
       "    </tr>\n",
       "  </thead>\n",
       "  <tbody>\n",
       "    <tr>\n",
       "      <th>0</th>\n",
       "      <td>WORLD</td>\n",
       "      <td>7963.0</td>\n",
       "    </tr>\n",
       "    <tr>\n",
       "      <th>1</th>\n",
       "      <td>AFRICA</td>\n",
       "      <td>1419.0</td>\n",
       "    </tr>\n",
       "    <tr>\n",
       "      <th>2</th>\n",
       "      <td>NORTHERN AFRICA</td>\n",
       "      <td>251.0</td>\n",
       "    </tr>\n",
       "    <tr>\n",
       "      <th>10</th>\n",
       "      <td>WESTERN AFRICA</td>\n",
       "      <td>430.0</td>\n",
       "    </tr>\n",
       "    <tr>\n",
       "      <th>27</th>\n",
       "      <td>EASTERN AFRICA</td>\n",
       "      <td>473.0</td>\n",
       "    </tr>\n",
       "  </tbody>\n",
       "</table>\n",
       "</div>"
      ],
      "text/plain": [
       "             Region  Population (millions)\n",
       "0             WORLD                 7963.0\n",
       "1            AFRICA                 1419.0\n",
       "2   NORTHERN AFRICA                  251.0\n",
       "10   WESTERN AFRICA                  430.0\n",
       "27   EASTERN AFRICA                  473.0"
      ]
     },
     "execution_count": 9,
     "metadata": {},
     "output_type": "execute_result"
    }
   ],
   "source": [
    "population_totals.head()"
   ]
  },
  {
   "cell_type": "markdown",
   "metadata": {},
   "source": [
    "## 1.3 Getting the Most Recent Revision ID From The Article Page API"
   ]
  },
  {
   "cell_type": "code",
   "execution_count": 10,
   "metadata": {},
   "outputs": [
    {
     "name": "stderr",
     "output_type": "stream",
     "text": [
      "100%|██████████| 7584/7584 [28:59<00:00,  4.36it/s]\n"
     ]
    }
   ],
   "source": [
    "for name in tqdm(articles[\"name\"]):\n",
    "    try:\n",
    "        page = request_pageinfo_per_article(name)\n",
    "        pageid = str(list(page[\"query\"][\"pages\"].keys())[0])\n",
    "        revid = str(page[\"query\"][\"pages\"][pageid][\"lastrevid\"])\n",
    "        articles.loc[articles[\"name\"] == name, \"pageid\"] = pageid\n",
    "        articles.loc[articles[\"name\"] == name, \"revid\"] = revid\n",
    "    except KeyError:\n",
    "        logging.error(\"Revision ID not found for article: {}\".format(name))\n",
    "    except Exception as e:\n",
    "        logging.error(\"Error making request for article: {}. Error raised: {}\".format(name, e.__cause__))"
   ]
  },
  {
   "cell_type": "markdown",
   "metadata": {},
   "source": [
    "# 2. Get Article Quality Predictions\n",
    "\n",
    "Now you need to get the predicted quality scores for each article in the Wikipedia dataset. We're using a machine learning system called ORES. This was originally an acronym for \"Objective Revision Evaluation Service\" but was simply renamed “ORES”. ORES is a machine learning tool that can provide estimates of Wikipedia article quality. The article quality estimates are, from best to worst:\n",
    "\n",
    "1. FA - Featured article\n",
    "2. GA - Good article\n",
    "3. B - B-class article\n",
    "4. C - C-class article\n",
    "5. Start - Start-class article\n",
    "6. Stub - Stub-class article\n"
   ]
  },
  {
   "cell_type": "code",
   "execution_count": 11,
   "metadata": {},
   "outputs": [
    {
     "name": "stderr",
     "output_type": "stream",
     "text": [
      "7584it [25:56,  4.87it/s]\n"
     ]
    }
   ],
   "source": [
    "for name,revid in tqdm(zip(articles[\"name\"],articles[\"revid\"])):\n",
    "    try:\n",
    "        ores = request_ores_score_per_article(revid)\n",
    "        ores = ores[\"enwiki\"][\"scores\"][revid][\"articlequality\"][\"score\"][\"prediction\"]\n",
    "        articles.loc[articles[\"revid\"] == revid, \"ores\"] = ores\n",
    "    except Exception as e:\n",
    "        logging.error(\"ORES score not found for article: {}. Error raised: {}\".format(name, e.__cause__))\n",
    "\n",
    "articles.to_csv(\"articles.csv\", index=False)"
   ]
  },
  {
   "cell_type": "code",
   "execution_count": 13,
   "metadata": {},
   "outputs": [
    {
     "data": {
      "text/plain": [
       "name       0.0000\n",
       "url        0.0000\n",
       "country    0.0000\n",
       "pageid     0.0923\n",
       "revid      0.0923\n",
       "ores       0.0923\n",
       "dtype: float64"
      ]
     },
     "execution_count": 13,
     "metadata": {},
     "output_type": "execute_result"
    }
   ],
   "source": [
    "articles.isna().mean()*100"
   ]
  },
  {
   "cell_type": "markdown",
   "metadata": {},
   "source": [
    "We see 0.0923% missing data points, we can choose not to resolve these errors as it is a very tiny set of pages."
   ]
  },
  {
   "cell_type": "markdown",
   "metadata": {},
   "source": [
    "# 3. Combining Datasets\n",
    "\n",
    "Some processing of the data will be necessary! In particular, you'll need to - after retrieving and including the ORES data for each article - merge the wikipedia data and population data together. Both have fields containing country names for just that purpose. \n",
    "\n",
    "After merging the data, you'll invariably run into entries which cannot be merged. Either the population dataset does not have an entry for the equivalent Wikipedia country, or vice-versa.\n",
    "\n",
    "\n",
    "Identify all countries for which there are no matches and output a list of those countries, with each country on a separate line called:\n",
    "`wp_countries-no_match.txt`\n",
    "\n",
    "Consolidate the remaining data into a single CSV file called:\n",
    "`wp_politicians_by_country.csv`\n",
    "\n",
    "The schema for that file should look something like this:\n",
    "\n",
    "|Column|\n",
    "|---|\n",
    "|country|\n",
    "|region|\n",
    "|population|\n",
    "|article_title|\n",
    "|revision_id|\n",
    "|article_quality|\n",
    "\n"
   ]
  },
  {
   "cell_type": "code",
   "execution_count": 131,
   "metadata": {},
   "outputs": [],
   "source": [
    "articles = pd.read_csv(\"articles.csv\")"
   ]
  },
  {
   "cell_type": "code",
   "execution_count": 132,
   "metadata": {},
   "outputs": [
    {
     "data": {
      "text/plain": [
       "(7609, 9)"
      ]
     },
     "execution_count": 132,
     "metadata": {},
     "output_type": "execute_result"
    }
   ],
   "source": [
    "combined_data = pd.merge(articles, population, how=\"outer\", left_on=\"country\", right_on=\"Country\")\n",
    "combined_data.shape"
   ]
  },
  {
   "cell_type": "code",
   "execution_count": 133,
   "metadata": {},
   "outputs": [
    {
     "data": {
      "text/plain": [
       "name                     25\n",
       "url                      25\n",
       "country                  25\n",
       "pageid                   32\n",
       "revid                    32\n",
       "ores                     32\n",
       "Region                   70\n",
       "Country                  70\n",
       "Population (millions)    70\n",
       "dtype: int64"
      ]
     },
     "execution_count": 133,
     "metadata": {},
     "output_type": "execute_result"
    }
   ],
   "source": [
    "combined_data.isna().sum()"
   ]
  },
  {
   "cell_type": "code",
   "execution_count": 134,
   "metadata": {},
   "outputs": [],
   "source": [
    "# In left table only: Checking for countries with missing left table fields and valid Country (right table) field\n",
    "left_unmatched = combined_data.loc[combined_data[\"country\"].isna(), \"Country\"].unique()\n",
    "\n",
    "# In right table only: Checking for countries with missing right table fields and valid country (left table) field\n",
    "right_unmatched = combined_data.loc[combined_data[\"Country\"].isna(), \"country\"].unique()"
   ]
  },
  {
   "cell_type": "code",
   "execution_count": 135,
   "metadata": {},
   "outputs": [],
   "source": [
    "import numpy as np\n",
    "\n",
    "with open('wp_countries-no_match.txt', 'w') as f:\n",
    "    for country in np.hstack((left_unmatched, right_unmatched)):\n",
    "        f.write(country+\"\\n\")\n"
   ]
  },
  {
   "cell_type": "code",
   "execution_count": 136,
   "metadata": {},
   "outputs": [],
   "source": [
    "combined_data = combined_data.dropna(axis=0)\n",
    "combined_data.rename(\n",
    "    {\n",
    "        \"Population (millions)\": \"population\",\n",
    "        \"Region\":\"region\", \n",
    "        \"revid\":\"revision_id\", \n",
    "        \"ores\":\"article_quality\",\n",
    "        \"name\":\"article_title\"\n",
    "    }, axis=1, inplace=True)\n",
    "combined_data[[\"country\", \"region\", \"population\", \"article_title\", \"revision_id\", \"article_quality\"]].to_csv(\"wp_politicians_by_country.csv\", index=False)"
   ]
  },
  {
   "cell_type": "markdown",
   "metadata": {},
   "source": [
    "# 4. Analysis\n",
    "\n",
    "Your analysis will consist of calculating total-articles-per-population (a ratio representing the number of articles per person)  and high-quality-articles-per-population (a ratio representing the number of high quality articles per person) on a country-by-country and regional basis. All of these values are to be “per capita”.\n",
    "\n",
    "In this analysis a country can only exist in one region. The `population_by_country_2022.csv` actually represents regions in a hierarchical order. For your analysis always put a country in the closest (lowest in the hierarchy) region.\n",
    "For this analysis you should consider \"high quality\" articles to be articles that ORES predicted would be in either the \"FA\" (featured article) or \"GA\" (good article) classes.\n",
    "\n",
    "Also, keep in mind that the `population_by_country_2022.csv` file provides population in millions. The calculated proportions in this step are likely to be very small numbers.\n"
   ]
  },
  {
   "cell_type": "markdown",
   "metadata": {},
   "source": [
    "## 4.1 Total Articles per Capita"
   ]
  },
  {
   "cell_type": "code",
   "execution_count": 137,
   "metadata": {},
   "outputs": [
    {
     "data": {
      "text/html": [
       "<div>\n",
       "<style scoped>\n",
       "    .dataframe tbody tr th:only-of-type {\n",
       "        vertical-align: middle;\n",
       "    }\n",
       "\n",
       "    .dataframe tbody tr th {\n",
       "        vertical-align: top;\n",
       "    }\n",
       "\n",
       "    .dataframe thead th {\n",
       "        text-align: right;\n",
       "    }\n",
       "</style>\n",
       "<table border=\"1\" class=\"dataframe\">\n",
       "  <thead>\n",
       "    <tr style=\"text-align: right;\">\n",
       "      <th></th>\n",
       "      <th>article_title</th>\n",
       "      <th>population</th>\n",
       "    </tr>\n",
       "    <tr>\n",
       "      <th>country</th>\n",
       "      <th></th>\n",
       "      <th></th>\n",
       "    </tr>\n",
       "  </thead>\n",
       "  <tbody>\n",
       "    <tr>\n",
       "      <th>Afghanistan</th>\n",
       "      <td>118</td>\n",
       "      <td>41.1</td>\n",
       "    </tr>\n",
       "    <tr>\n",
       "      <th>Albania</th>\n",
       "      <td>83</td>\n",
       "      <td>2.8</td>\n",
       "    </tr>\n",
       "    <tr>\n",
       "      <th>Algeria</th>\n",
       "      <td>34</td>\n",
       "      <td>44.9</td>\n",
       "    </tr>\n",
       "    <tr>\n",
       "      <th>Andorra</th>\n",
       "      <td>10</td>\n",
       "      <td>0.1</td>\n",
       "    </tr>\n",
       "    <tr>\n",
       "      <th>Angola</th>\n",
       "      <td>42</td>\n",
       "      <td>35.6</td>\n",
       "    </tr>\n",
       "    <tr>\n",
       "      <th>...</th>\n",
       "      <td>...</td>\n",
       "      <td>...</td>\n",
       "    </tr>\n",
       "    <tr>\n",
       "      <th>Venezuela</th>\n",
       "      <td>62</td>\n",
       "      <td>28.3</td>\n",
       "    </tr>\n",
       "    <tr>\n",
       "      <th>Vietnam</th>\n",
       "      <td>27</td>\n",
       "      <td>99.4</td>\n",
       "    </tr>\n",
       "    <tr>\n",
       "      <th>Yemen</th>\n",
       "      <td>61</td>\n",
       "      <td>33.7</td>\n",
       "    </tr>\n",
       "    <tr>\n",
       "      <th>Zambia</th>\n",
       "      <td>13</td>\n",
       "      <td>20.0</td>\n",
       "    </tr>\n",
       "    <tr>\n",
       "      <th>Zimbabwe</th>\n",
       "      <td>63</td>\n",
       "      <td>16.3</td>\n",
       "    </tr>\n",
       "  </tbody>\n",
       "</table>\n",
       "<p>184 rows × 2 columns</p>\n",
       "</div>"
      ],
      "text/plain": [
       "             article_title  population\n",
       "country                               \n",
       "Afghanistan            118        41.1\n",
       "Albania                 83         2.8\n",
       "Algeria                 34        44.9\n",
       "Andorra                 10         0.1\n",
       "Angola                  42        35.6\n",
       "...                    ...         ...\n",
       "Venezuela               62        28.3\n",
       "Vietnam                 27        99.4\n",
       "Yemen                   61        33.7\n",
       "Zambia                  13        20.0\n",
       "Zimbabwe                63        16.3\n",
       "\n",
       "[184 rows x 2 columns]"
      ]
     },
     "execution_count": 137,
     "metadata": {},
     "output_type": "execute_result"
    }
   ],
   "source": [
    "combined_data = combined_data[[\"country\", \"region\", \"population\", \"article_title\", \"revision_id\", \"article_quality\"]]\n",
    "total_articles_by_country = combined_data.groupby(\"country\").agg({\"article_title\":\"count\", \"population\":\"max\"}).reset_index()\n",
    "total_articles_by_country.set_index(\"country\", inplace=True)\n",
    "total_articles_by_country"
   ]
  },
  {
   "cell_type": "code",
   "execution_count": 138,
   "metadata": {},
   "outputs": [
    {
     "data": {
      "text/html": [
       "<div>\n",
       "<style scoped>\n",
       "    .dataframe tbody tr th:only-of-type {\n",
       "        vertical-align: middle;\n",
       "    }\n",
       "\n",
       "    .dataframe tbody tr th {\n",
       "        vertical-align: top;\n",
       "    }\n",
       "\n",
       "    .dataframe thead th {\n",
       "        text-align: right;\n",
       "    }\n",
       "</style>\n",
       "<table border=\"1\" class=\"dataframe\">\n",
       "  <thead>\n",
       "    <tr style=\"text-align: right;\">\n",
       "      <th></th>\n",
       "      <th>article_title</th>\n",
       "      <th>Population (millions)</th>\n",
       "    </tr>\n",
       "    <tr>\n",
       "      <th>Region</th>\n",
       "      <th></th>\n",
       "      <th></th>\n",
       "    </tr>\n",
       "  </thead>\n",
       "  <tbody>\n",
       "    <tr>\n",
       "      <th>CARIBBEAN</th>\n",
       "      <td>201</td>\n",
       "      <td>44.0</td>\n",
       "    </tr>\n",
       "    <tr>\n",
       "      <th>CENTRAL AMERICA</th>\n",
       "      <td>195</td>\n",
       "      <td>178.0</td>\n",
       "    </tr>\n",
       "    <tr>\n",
       "      <th>CENTRAL ASIA</th>\n",
       "      <td>106</td>\n",
       "      <td>78.0</td>\n",
       "    </tr>\n",
       "    <tr>\n",
       "      <th>EAST ASIA</th>\n",
       "      <td>245</td>\n",
       "      <td>1674.0</td>\n",
       "    </tr>\n",
       "    <tr>\n",
       "      <th>EASTERN AFRICA</th>\n",
       "      <td>650</td>\n",
       "      <td>473.0</td>\n",
       "    </tr>\n",
       "    <tr>\n",
       "      <th>EASTERN EUROPE</th>\n",
       "      <td>735</td>\n",
       "      <td>287.0</td>\n",
       "    </tr>\n",
       "    <tr>\n",
       "      <th>MIDDLE AFRICA</th>\n",
       "      <td>203</td>\n",
       "      <td>196.0</td>\n",
       "    </tr>\n",
       "    <tr>\n",
       "      <th>NORTHERN AFRICA</th>\n",
       "      <td>227</td>\n",
       "      <td>251.0</td>\n",
       "    </tr>\n",
       "    <tr>\n",
       "      <th>NORTHERN EUROPE</th>\n",
       "      <td>262</td>\n",
       "      <td>107.0</td>\n",
       "    </tr>\n",
       "    <tr>\n",
       "      <th>OCEANIA</th>\n",
       "      <td>86</td>\n",
       "      <td>44.0</td>\n",
       "    </tr>\n",
       "    <tr>\n",
       "      <th>SOUTH AMERICA</th>\n",
       "      <td>577</td>\n",
       "      <td>434.0</td>\n",
       "    </tr>\n",
       "    <tr>\n",
       "      <th>SOUTH ASIA</th>\n",
       "      <td>648</td>\n",
       "      <td>2008.0</td>\n",
       "    </tr>\n",
       "    <tr>\n",
       "      <th>SOUTHEAST ASIA</th>\n",
       "      <td>412</td>\n",
       "      <td>676.0</td>\n",
       "    </tr>\n",
       "    <tr>\n",
       "      <th>SOUTHERN AFRICA</th>\n",
       "      <td>117</td>\n",
       "      <td>69.0</td>\n",
       "    </tr>\n",
       "    <tr>\n",
       "      <th>SOUTHERN EUROPE</th>\n",
       "      <td>890</td>\n",
       "      <td>151.0</td>\n",
       "    </tr>\n",
       "    <tr>\n",
       "      <th>WESTERN AFRICA</th>\n",
       "      <td>568</td>\n",
       "      <td>430.0</td>\n",
       "    </tr>\n",
       "    <tr>\n",
       "      <th>WESTERN ASIA</th>\n",
       "      <td>686</td>\n",
       "      <td>294.0</td>\n",
       "    </tr>\n",
       "    <tr>\n",
       "      <th>WESTERN EUROPE</th>\n",
       "      <td>699</td>\n",
       "      <td>197.0</td>\n",
       "    </tr>\n",
       "  </tbody>\n",
       "</table>\n",
       "</div>"
      ],
      "text/plain": [
       "                 article_title  Population (millions)\n",
       "Region                                               \n",
       "CARIBBEAN                  201                   44.0\n",
       "CENTRAL AMERICA            195                  178.0\n",
       "CENTRAL ASIA               106                   78.0\n",
       "EAST ASIA                  245                 1674.0\n",
       "EASTERN AFRICA             650                  473.0\n",
       "EASTERN EUROPE             735                  287.0\n",
       "MIDDLE AFRICA              203                  196.0\n",
       "NORTHERN AFRICA            227                  251.0\n",
       "NORTHERN EUROPE            262                  107.0\n",
       "OCEANIA                     86                   44.0\n",
       "SOUTH AMERICA              577                  434.0\n",
       "SOUTH ASIA                 648                 2008.0\n",
       "SOUTHEAST ASIA             412                  676.0\n",
       "SOUTHERN AFRICA            117                   69.0\n",
       "SOUTHERN EUROPE            890                  151.0\n",
       "WESTERN AFRICA             568                  430.0\n",
       "WESTERN ASIA               686                  294.0\n",
       "WESTERN EUROPE             699                  197.0"
      ]
     },
     "execution_count": 138,
     "metadata": {},
     "output_type": "execute_result"
    }
   ],
   "source": [
    "total_articles_by_region = combined_data.groupby(\"region\").agg({\"article_title\":\"count\"}).merge(population_totals, how=\"left\", left_index=True, right_on=\"Region\")\n",
    "total_articles_by_region.set_index(\"Region\", inplace=True)\n",
    "total_articles_by_region"
   ]
  },
  {
   "cell_type": "markdown",
   "metadata": {},
   "source": [
    "## 4.2 High Quality Articles per Capita"
   ]
  },
  {
   "cell_type": "code",
   "execution_count": 139,
   "metadata": {},
   "outputs": [
    {
     "data": {
      "text/html": [
       "<div>\n",
       "<style scoped>\n",
       "    .dataframe tbody tr th:only-of-type {\n",
       "        vertical-align: middle;\n",
       "    }\n",
       "\n",
       "    .dataframe tbody tr th {\n",
       "        vertical-align: top;\n",
       "    }\n",
       "\n",
       "    .dataframe thead th {\n",
       "        text-align: right;\n",
       "    }\n",
       "</style>\n",
       "<table border=\"1\" class=\"dataframe\">\n",
       "  <thead>\n",
       "    <tr style=\"text-align: right;\">\n",
       "      <th></th>\n",
       "      <th>article_quality</th>\n",
       "      <th>population</th>\n",
       "    </tr>\n",
       "    <tr>\n",
       "      <th>country</th>\n",
       "      <th></th>\n",
       "      <th></th>\n",
       "    </tr>\n",
       "  </thead>\n",
       "  <tbody>\n",
       "    <tr>\n",
       "      <th>Afghanistan</th>\n",
       "      <td>6</td>\n",
       "      <td>41.1</td>\n",
       "    </tr>\n",
       "    <tr>\n",
       "      <th>Albania</th>\n",
       "      <td>6</td>\n",
       "      <td>2.8</td>\n",
       "    </tr>\n",
       "    <tr>\n",
       "      <th>Algeria</th>\n",
       "      <td>0</td>\n",
       "      <td>44.9</td>\n",
       "    </tr>\n",
       "    <tr>\n",
       "      <th>Andorra</th>\n",
       "      <td>2</td>\n",
       "      <td>0.1</td>\n",
       "    </tr>\n",
       "    <tr>\n",
       "      <th>Angola</th>\n",
       "      <td>0</td>\n",
       "      <td>35.6</td>\n",
       "    </tr>\n",
       "    <tr>\n",
       "      <th>...</th>\n",
       "      <td>...</td>\n",
       "      <td>...</td>\n",
       "    </tr>\n",
       "    <tr>\n",
       "      <th>Venezuela</th>\n",
       "      <td>0</td>\n",
       "      <td>28.3</td>\n",
       "    </tr>\n",
       "    <tr>\n",
       "      <th>Vietnam</th>\n",
       "      <td>2</td>\n",
       "      <td>99.4</td>\n",
       "    </tr>\n",
       "    <tr>\n",
       "      <th>Yemen</th>\n",
       "      <td>2</td>\n",
       "      <td>33.7</td>\n",
       "    </tr>\n",
       "    <tr>\n",
       "      <th>Zambia</th>\n",
       "      <td>0</td>\n",
       "      <td>20.0</td>\n",
       "    </tr>\n",
       "    <tr>\n",
       "      <th>Zimbabwe</th>\n",
       "      <td>0</td>\n",
       "      <td>16.3</td>\n",
       "    </tr>\n",
       "  </tbody>\n",
       "</table>\n",
       "<p>184 rows × 2 columns</p>\n",
       "</div>"
      ],
      "text/plain": [
       "             article_quality  population\n",
       "country                                 \n",
       "Afghanistan                6        41.1\n",
       "Albania                    6         2.8\n",
       "Algeria                    0        44.9\n",
       "Andorra                    2         0.1\n",
       "Angola                     0        35.6\n",
       "...                      ...         ...\n",
       "Venezuela                  0        28.3\n",
       "Vietnam                    2        99.4\n",
       "Yemen                      2        33.7\n",
       "Zambia                     0        20.0\n",
       "Zimbabwe                   0        16.3\n",
       "\n",
       "[184 rows x 2 columns]"
      ]
     },
     "execution_count": 139,
     "metadata": {},
     "output_type": "execute_result"
    }
   ],
   "source": [
    "high_qual_counts = lambda x: x[x.isin([\"FA\",\"GA\"])].shape[0]\n",
    "high_quality_articles_by_country = combined_data.groupby(\"country\").agg({\"article_quality\":high_qual_counts, \"population\":\"max\"})\n",
    "high_quality_articles_by_country"
   ]
  },
  {
   "cell_type": "code",
   "execution_count": 140,
   "metadata": {},
   "outputs": [
    {
     "data": {
      "text/html": [
       "<div>\n",
       "<style scoped>\n",
       "    .dataframe tbody tr th:only-of-type {\n",
       "        vertical-align: middle;\n",
       "    }\n",
       "\n",
       "    .dataframe tbody tr th {\n",
       "        vertical-align: top;\n",
       "    }\n",
       "\n",
       "    .dataframe thead th {\n",
       "        text-align: right;\n",
       "    }\n",
       "</style>\n",
       "<table border=\"1\" class=\"dataframe\">\n",
       "  <thead>\n",
       "    <tr style=\"text-align: right;\">\n",
       "      <th></th>\n",
       "      <th>article_quality</th>\n",
       "      <th>Population (millions)</th>\n",
       "    </tr>\n",
       "    <tr>\n",
       "      <th>Region</th>\n",
       "      <th></th>\n",
       "      <th></th>\n",
       "    </tr>\n",
       "  </thead>\n",
       "  <tbody>\n",
       "    <tr>\n",
       "      <th>CARIBBEAN</th>\n",
       "      <td>8</td>\n",
       "      <td>44.0</td>\n",
       "    </tr>\n",
       "    <tr>\n",
       "      <th>CENTRAL AMERICA</th>\n",
       "      <td>10</td>\n",
       "      <td>178.0</td>\n",
       "    </tr>\n",
       "    <tr>\n",
       "      <th>CENTRAL ASIA</th>\n",
       "      <td>3</td>\n",
       "      <td>78.0</td>\n",
       "    </tr>\n",
       "    <tr>\n",
       "      <th>EAST ASIA</th>\n",
       "      <td>16</td>\n",
       "      <td>1674.0</td>\n",
       "    </tr>\n",
       "    <tr>\n",
       "      <th>EASTERN AFRICA</th>\n",
       "      <td>15</td>\n",
       "      <td>473.0</td>\n",
       "    </tr>\n",
       "    <tr>\n",
       "      <th>EASTERN EUROPE</th>\n",
       "      <td>39</td>\n",
       "      <td>287.0</td>\n",
       "    </tr>\n",
       "    <tr>\n",
       "      <th>MIDDLE AFRICA</th>\n",
       "      <td>5</td>\n",
       "      <td>196.0</td>\n",
       "    </tr>\n",
       "    <tr>\n",
       "      <th>NORTHERN AFRICA</th>\n",
       "      <td>6</td>\n",
       "      <td>251.0</td>\n",
       "    </tr>\n",
       "    <tr>\n",
       "      <th>NORTHERN EUROPE</th>\n",
       "      <td>8</td>\n",
       "      <td>107.0</td>\n",
       "    </tr>\n",
       "    <tr>\n",
       "      <th>OCEANIA</th>\n",
       "      <td>2</td>\n",
       "      <td>44.0</td>\n",
       "    </tr>\n",
       "    <tr>\n",
       "      <th>SOUTH AMERICA</th>\n",
       "      <td>13</td>\n",
       "      <td>434.0</td>\n",
       "    </tr>\n",
       "    <tr>\n",
       "      <th>SOUTH ASIA</th>\n",
       "      <td>23</td>\n",
       "      <td>2008.0</td>\n",
       "    </tr>\n",
       "    <tr>\n",
       "      <th>SOUTHEAST ASIA</th>\n",
       "      <td>24</td>\n",
       "      <td>676.0</td>\n",
       "    </tr>\n",
       "    <tr>\n",
       "      <th>SOUTHERN AFRICA</th>\n",
       "      <td>4</td>\n",
       "      <td>69.0</td>\n",
       "    </tr>\n",
       "    <tr>\n",
       "      <th>SOUTHERN EUROPE</th>\n",
       "      <td>46</td>\n",
       "      <td>151.0</td>\n",
       "    </tr>\n",
       "    <tr>\n",
       "      <th>WESTERN AFRICA</th>\n",
       "      <td>13</td>\n",
       "      <td>430.0</td>\n",
       "    </tr>\n",
       "    <tr>\n",
       "      <th>WESTERN ASIA</th>\n",
       "      <td>28</td>\n",
       "      <td>294.0</td>\n",
       "    </tr>\n",
       "    <tr>\n",
       "      <th>WESTERN EUROPE</th>\n",
       "      <td>22</td>\n",
       "      <td>197.0</td>\n",
       "    </tr>\n",
       "  </tbody>\n",
       "</table>\n",
       "</div>"
      ],
      "text/plain": [
       "                 article_quality  Population (millions)\n",
       "Region                                                 \n",
       "CARIBBEAN                      8                   44.0\n",
       "CENTRAL AMERICA               10                  178.0\n",
       "CENTRAL ASIA                   3                   78.0\n",
       "EAST ASIA                     16                 1674.0\n",
       "EASTERN AFRICA                15                  473.0\n",
       "EASTERN EUROPE                39                  287.0\n",
       "MIDDLE AFRICA                  5                  196.0\n",
       "NORTHERN AFRICA                6                  251.0\n",
       "NORTHERN EUROPE                8                  107.0\n",
       "OCEANIA                        2                   44.0\n",
       "SOUTH AMERICA                 13                  434.0\n",
       "SOUTH ASIA                    23                 2008.0\n",
       "SOUTHEAST ASIA                24                  676.0\n",
       "SOUTHERN AFRICA                4                   69.0\n",
       "SOUTHERN EUROPE               46                  151.0\n",
       "WESTERN AFRICA                13                  430.0\n",
       "WESTERN ASIA                  28                  294.0\n",
       "WESTERN EUROPE                22                  197.0"
      ]
     },
     "execution_count": 140,
     "metadata": {},
     "output_type": "execute_result"
    }
   ],
   "source": [
    "high_quality_articles_by_region = combined_data.groupby(\"region\").agg({\"article_quality\":high_qual_counts}).merge(population_totals, how=\"left\", left_index=True, right_on=\"Region\")\n",
    "high_quality_articles_by_region.set_index(\"Region\", inplace=True)\n",
    "high_quality_articles_by_region"
   ]
  },
  {
   "cell_type": "markdown",
   "metadata": {},
   "source": [
    "# 5. Results\n",
    "\n"
   ]
  },
  {
   "cell_type": "markdown",
   "metadata": {},
   "source": [
    "## 5.1 Top 10 countries by coverage\n",
    "\n",
    "The 10 countries with the highest total articles per capita (in descending order)"
   ]
  },
  {
   "cell_type": "code",
   "execution_count": 141,
   "metadata": {},
   "outputs": [
    {
     "data": {
      "text/plain": [
       "country\n",
       "Antigua and Barbuda               0.000170\n",
       "Federated States of Micronesia    0.000130\n",
       "Andorra                           0.000100\n",
       "Barbados                          0.000093\n",
       "Marshall Islands                  0.000090\n",
       "Montenegro                        0.000060\n",
       "Seychelles                        0.000060\n",
       "Luxembourg                        0.000053\n",
       "Bhutan                            0.000051\n",
       "Grenada                           0.000050\n",
       "Name: article_per_capita, dtype: float64"
      ]
     },
     "execution_count": 141,
     "metadata": {},
     "output_type": "execute_result"
    }
   ],
   "source": [
    "total_articles_by_country[\"article_per_capita\"] = total_articles_by_country[\"article_title\"]/(total_articles_by_country[\"population\"]*1e6)\n",
    "total_articles_by_country = total_articles_by_country.loc[total_articles_by_country[\"article_per_capita\"] != np.inf,:]\n",
    "total_articles_by_country[\"article_per_capita\"].sort_values(ascending=False).head(10)"
   ]
  },
  {
   "cell_type": "markdown",
   "metadata": {},
   "source": [
    "## 5.2 Bottom 10 countries by coverage\n",
    "\n",
    "The 10 countries with the lowest total articles per capita (in ascending order) "
   ]
  },
  {
   "cell_type": "code",
   "execution_count": 142,
   "metadata": {},
   "outputs": [
    {
     "data": {
      "text/plain": [
       "country\n",
       "China           1.392176e-09\n",
       "Mexico          7.843137e-09\n",
       "Saudi Arabia    8.174387e-08\n",
       "Romania         1.052632e-07\n",
       "India           1.255998e-07\n",
       "Sri Lanka       1.339286e-07\n",
       "Egypt           1.352657e-07\n",
       "Ethiopia        2.025932e-07\n",
       "Taiwan          2.155172e-07\n",
       "Vietnam         2.716298e-07\n",
       "Name: article_per_capita, dtype: float64"
      ]
     },
     "execution_count": 142,
     "metadata": {},
     "output_type": "execute_result"
    }
   ],
   "source": [
    "total_articles_by_country[\"article_per_capita\"].sort_values(ascending=True).head(10)"
   ]
  },
  {
   "cell_type": "markdown",
   "metadata": {},
   "source": [
    "## 5.3 Top 10 countries by high quality\n",
    "\n",
    "The 10 countries with the highest high quality articles per capita (in descending order)"
   ]
  },
  {
   "cell_type": "code",
   "execution_count": 143,
   "metadata": {},
   "outputs": [
    {
     "data": {
      "text/plain": [
       "country\n",
       "Andorra                  2.000000e-05\n",
       "Montenegro               5.000000e-06\n",
       "Albania                  2.142857e-06\n",
       "Suriname                 1.666667e-06\n",
       "Bosnia-Herzegovina       1.470588e-06\n",
       "Lithuania                1.071429e-06\n",
       "Croatia                  1.052632e-06\n",
       "Slovenia                 9.523810e-07\n",
       "Palestinian Territory    9.259259e-07\n",
       "Gabon                    8.333333e-07\n",
       "Name: article_per_capita, dtype: float64"
      ]
     },
     "execution_count": 143,
     "metadata": {},
     "output_type": "execute_result"
    }
   ],
   "source": [
    "high_quality_articles_by_country[\"article_per_capita\"] = high_quality_articles_by_country[\"article_quality\"]/(high_quality_articles_by_country[\"population\"]*1e6)\n",
    "high_quality_articles_by_country = high_quality_articles_by_country.loc[high_quality_articles_by_country[\"article_per_capita\"] != np.inf,:]\n",
    "high_quality_articles_by_country[\"article_per_capita\"].sort_values(ascending=False).head(10)"
   ]
  },
  {
   "cell_type": "markdown",
   "metadata": {},
   "source": [
    "## 5.4 Bottom 10 countries by high quality\n",
    "\n",
    "The 10 countries with the lowest high quality articles per capita (in ascending order)"
   ]
  },
  {
   "cell_type": "code",
   "execution_count": 144,
   "metadata": {},
   "outputs": [
    {
     "data": {
      "text/plain": [
       "country\n",
       "Zimbabwe                          0.0\n",
       "Zambia                            0.0\n",
       "Kuwait                            0.0\n",
       "Sri Lanka                         0.0\n",
       "St. Kitts-Nevis                   0.0\n",
       "Jamaica                           0.0\n",
       "Italy                             0.0\n",
       "Israel                            0.0\n",
       "Iceland                           0.0\n",
       "St. Vincent and the Grenadines    0.0\n",
       "Name: article_per_capita, dtype: float64"
      ]
     },
     "execution_count": 144,
     "metadata": {},
     "output_type": "execute_result"
    }
   ],
   "source": [
    "high_quality_articles_by_country[\"article_per_capita\"].sort_values(ascending=True).head(10)"
   ]
  },
  {
   "cell_type": "markdown",
   "metadata": {},
   "source": [
    "We should check if there are more than 10 countries with zeros."
   ]
  },
  {
   "cell_type": "code",
   "execution_count": 155,
   "metadata": {},
   "outputs": [
    {
     "data": {
      "text/plain": [
       "Index(['Algeria', 'Angola', 'Antigua and Barbuda', 'Argentina', 'Austria',\n",
       "       'Bahamas', 'Bahrain', 'Bangladesh', 'Barbados', 'Belize', 'Bhutan',\n",
       "       'Botswana', 'Brazil', 'Cape Verde', 'Chad', 'China', 'Comoros', 'Congo',\n",
       "       'Congo, Dem. Rep.', 'Cote d'Ivoire', 'Cyprus', 'Denmark', 'Djibouti',\n",
       "       'Dominica', 'Egypt', 'Equatorial Guinea', 'Eritrea',\n",
       "       'Federated States of Micronesia', 'Fiji', 'Finland', 'Gambia', 'Ghana',\n",
       "       'Greece', 'Grenada', 'Guinea-Bissau', 'Guyana', 'Honduras', 'Iceland',\n",
       "       'Israel', 'Italy', 'Jamaica', 'Kuwait', 'Laos', 'Latvia', 'Lesotho',\n",
       "       'Liberia', 'Luxembourg', 'Madagascar', 'Malawi', 'Maldives', 'Malta',\n",
       "       'Marshall Islands', 'Mexico', 'Moldova', 'Mongolia', 'Mozambique',\n",
       "       'Namibia', 'Nicaragua', 'Niger', 'North Macedonia', 'Oman', 'Paraguay',\n",
       "       'Qatar', 'Saint Lucia', 'Samoa', 'Seychelles', 'Sierra Leone',\n",
       "       'Singapore', 'Solomon Islands', 'Sri Lanka', 'St. Kitts-Nevis',\n",
       "       'St. Vincent and the Grenadines', 'Taiwan', 'Tajikistan', 'Tanzania',\n",
       "       'Timor-Leste', 'Togo', 'Tonga', 'Trinidad and Tobago', 'Turkey',\n",
       "       'Turkmenistan', 'Uzbekistan', 'Vanuatu', 'Venezuela', 'Zambia',\n",
       "       'Zimbabwe'],\n",
       "      dtype='object', name='country')"
      ]
     },
     "execution_count": 155,
     "metadata": {},
     "output_type": "execute_result"
    }
   ],
   "source": [
    "high_quality_articles_by_country[high_quality_articles_by_country[\"article_per_capita\"] == 0].index.unique()"
   ]
  },
  {
   "cell_type": "markdown",
   "metadata": {},
   "source": [
    "We should also check lowest scores which are not zero."
   ]
  },
  {
   "cell_type": "code",
   "execution_count": 153,
   "metadata": {},
   "outputs": [
    {
     "data": {
      "text/plain": [
       "country\n",
       "India       4.233700e-09\n",
       "Thailand    1.497006e-08\n",
       "Japan       1.601281e-08\n",
       "Nigeria     1.830664e-08\n",
       "Vietnam     2.012072e-08\n",
       "Colombia    2.036660e-08\n",
       "Uganda      2.118644e-08\n",
       "Pakistan    2.120441e-08\n",
       "Sudan       2.132196e-08\n",
       "Iran        2.257336e-08\n",
       "Name: article_per_capita, dtype: float64"
      ]
     },
     "execution_count": 153,
     "metadata": {},
     "output_type": "execute_result"
    }
   ],
   "source": [
    "high_quality_articles_by_country[high_quality_articles_by_country[\"article_per_capita\"] > 0][\"article_per_capita\"].sort_values(ascending=True).head(10)"
   ]
  },
  {
   "cell_type": "markdown",
   "metadata": {},
   "source": [
    "## 5.5 Geographic regions by total coverage\n",
    "\n",
    "A rank ordered list of geographic regions (in descending order) by total articles per capita"
   ]
  },
  {
   "cell_type": "code",
   "execution_count": 145,
   "metadata": {},
   "outputs": [
    {
     "data": {
      "text/plain": [
       "Region\n",
       "SOUTHERN EUROPE    0.000006\n",
       "CARIBBEAN          0.000005\n",
       "WESTERN EUROPE     0.000004\n",
       "EASTERN EUROPE     0.000003\n",
       "NORTHERN EUROPE    0.000002\n",
       "WESTERN ASIA       0.000002\n",
       "OCEANIA            0.000002\n",
       "SOUTHERN AFRICA    0.000002\n",
       "EASTERN AFRICA     0.000001\n",
       "CENTRAL ASIA       0.000001\n",
       "Name: article_per_capita, dtype: float64"
      ]
     },
     "execution_count": 145,
     "metadata": {},
     "output_type": "execute_result"
    }
   ],
   "source": [
    "total_articles_by_region[\"article_per_capita\"] = total_articles_by_region[\"article_title\"]/(total_articles_by_region[\"Population (millions)\"]*1e6)\n",
    "total_articles_by_region = total_articles_by_region.loc[total_articles_by_region[\"article_per_capita\"] != np.inf,:]\n",
    "total_articles_by_region[\"article_per_capita\"].sort_values(ascending=False).head(10)"
   ]
  },
  {
   "cell_type": "markdown",
   "metadata": {},
   "source": [
    "## 5.6 Geographic regions by high quality coverage\n",
    "\n",
    "Rank ordered list of geographic regions (in descending order) by high quality articles per capita"
   ]
  },
  {
   "cell_type": "code",
   "execution_count": 146,
   "metadata": {},
   "outputs": [
    {
     "data": {
      "text/plain": [
       "Region\n",
       "SOUTHERN EUROPE    3.046358e-07\n",
       "CARIBBEAN          1.818182e-07\n",
       "EASTERN EUROPE     1.358885e-07\n",
       "WESTERN EUROPE     1.116751e-07\n",
       "WESTERN ASIA       9.523810e-08\n",
       "NORTHERN EUROPE    7.476636e-08\n",
       "SOUTHERN AFRICA    5.797101e-08\n",
       "CENTRAL AMERICA    5.617978e-08\n",
       "OCEANIA            4.545455e-08\n",
       "CENTRAL ASIA       3.846154e-08\n",
       "Name: article_per_capita, dtype: float64"
      ]
     },
     "execution_count": 146,
     "metadata": {},
     "output_type": "execute_result"
    }
   ],
   "source": [
    "high_quality_articles_by_region[\"article_per_capita\"] = high_quality_articles_by_region[\"article_quality\"]/(high_quality_articles_by_region[\"Population (millions)\"]*1e6)\n",
    "high_quality_articles_by_region = high_quality_articles_by_region.loc[high_quality_articles_by_region[\"article_per_capita\"] != np.inf,:]\n",
    "high_quality_articles_by_region[\"article_per_capita\"].sort_values(ascending=False).head(10)"
   ]
  }
 ],
 "metadata": {
  "kernelspec": {
   "display_name": "Python 3.9.12 ('base')",
   "language": "python",
   "name": "python3"
  },
  "language_info": {
   "codemirror_mode": {
    "name": "ipython",
    "version": 3
   },
   "file_extension": ".py",
   "mimetype": "text/x-python",
   "name": "python",
   "nbconvert_exporter": "python",
   "pygments_lexer": "ipython3",
   "version": "3.9.12"
  },
  "orig_nbformat": 4,
  "vscode": {
   "interpreter": {
    "hash": "4d660cccac8868f582cce1165226b101da62e876645a12a7619ce413de84bef5"
   }
  }
 },
 "nbformat": 4,
 "nbformat_minor": 2
}
